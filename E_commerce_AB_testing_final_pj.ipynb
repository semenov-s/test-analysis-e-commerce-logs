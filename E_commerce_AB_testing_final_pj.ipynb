{
 "cells": [
  {
   "cell_type": "markdown",
   "metadata": {},
   "source": [
    "# Задание 1. A/B–тестирование\n",
    "#### Условие\n",
    "\n",
    "В ходе тестирования одной гипотезы целевой группе была предложена новая механика оплаты услуг на сайте, у контрольной группы оставалась базовая механика. Необходимо проанализировать итоги эксперимента и сделать вывод, стоит ли запускать новую механику оплаты на всех пользователей.\n",
    "\n",
    "---\n",
    "#### Входные данные\n",
    "\n",
    "- **groups.csv** - файл с информацией о принадлежности пользователя к контрольной или экспериментальной группе (А – контроль, B – целевая группа) \n",
    "- **groups_add.csv** - дополнительный файл с пользователями, который вам прислали спустя 2 дня после передачи данных\n",
    "- **active_studs.csv** - файл с информацией о пользователях, которые зашли на платформу в дни проведения эксперимента. \n",
    "- **checks.csv** - файл с информацией об оплатах пользователей в дни проведения эксперимента. \n",
    "\n",
    "---\n",
    "#### Вопросы\n",
    "- На какие метрики Вы смотрите в ходе анализа и почему?\n",
    "- Имеются ли различия в показателях и с чем они могут быть связаны?\n",
    "- Являются ли эти различия статистически значимыми?\n",
    "- Стоит ли запускать новую механику на всех пользователей?\n",
    "\n"
   ]
  },
  {
   "cell_type": "code",
   "execution_count": 1,
   "metadata": {},
   "outputs": [],
   "source": [
    "import pandas as pd\n",
    "import math\n",
    "import numpy as np\n",
    "import scipy.stats as st\n",
    "import pingouin as pg\n",
    "\n",
    "import seaborn as sns\n",
    "import matplotlib.pyplot as plt\n",
    "\n",
    "import requests\n",
    "from urllib.parse import urlencode\n",
    "import json"
   ]
  },
  {
   "cell_type": "code",
   "execution_count": 2,
   "metadata": {},
   "outputs": [],
   "source": [
    "# загрузка с яндекс диска\n",
    "def load_file(path):\n",
    "    public_key = path\n",
    "    base_url = 'https://cloud-api.yandex.net/v1/disk/public/resources/download?'  # noqa\n",
    "    final_url = base_url + urlencode(dict(public_key=public_key))\n",
    "    response = requests.get(final_url)\n",
    "    download_url = json.loads(response.text)['href']\n",
    "    return download_url"
   ]
  },
  {
   "cell_type": "code",
   "execution_count": 3,
   "metadata": {},
   "outputs": [],
   "source": [
    "# загрузка с я.диска\n",
    "# при нерабочем коде заменить load_file(path) на путь к файлу\n",
    "path = 'https://disk.yandex.ru/d/UhyYx41rTt3clQ'\n",
    "groups = pd.read_csv(load_file(path), sep=';')\n",
    "\n",
    "path = 'https://disk.yandex.ru/d/5Kxrz02m3IBUwQ'\n",
    "groups_add = pd.read_csv(load_file(path), sep=',')\n",
    "\n",
    "path = 'https://disk.yandex.ru/d/Tbs44Bm6H_FwFQ'\n",
    "active_studs = pd.read_csv(load_file(path), sep=',')\n",
    "\n",
    "path = 'https://disk.yandex.ru/d/pH1q-VqcxXjsVA'\n",
    "checks = pd.read_csv(load_file(path), sep=';')"
   ]
  },
  {
   "cell_type": "code",
   "execution_count": 4,
   "metadata": {},
   "outputs": [],
   "source": [
    "# path = 'file_path'  # noqa\n",
    "# groups = pd.read_csv(path, sep=';')\n",
    "\n",
    "# path = 'file_path'  # noqa\n",
    "# groups_add = pd.read_csv(path, sep=',')\n",
    "\n",
    "# path = 'file_path'  # noqa\n",
    "# active_studs = pd.read_csv(path, sep=',')\n",
    "\n",
    "# path = 'file_path'  # noqa\n",
    "# checks = pd.read_csv(path, sep=';')"
   ]
  },
  {
   "cell_type": "markdown",
   "metadata": {},
   "source": [
    "**Основная метрика: CR(конверсия)**\n",
    "\n",
    "**Второстепенная метрика: ARPPU, ARPU**\n"
   ]
  },
  {
   "cell_type": "code",
   "execution_count": 5,
   "metadata": {},
   "outputs": [],
   "source": [
    "# основные статистики df\n",
    "def test(df):\n",
    "    print(f'Строки: {df.shape[0]}\\t',\n",
    "          f'Пропуски: {df.isna().sum()[0]}\\t',\n",
    "          f'Дубликаты: {df.duplicated().sum()}',\n",
    "          '\\n\\nУникальные значения:\\n', df.nunique(),\n",
    "          '\\n\\nТип данных:\\n', df.dtypes,\n",
    "          sep='')"
   ]
  },
  {
   "cell_type": "code",
   "execution_count": 6,
   "metadata": {},
   "outputs": [
    {
     "name": "stdout",
     "output_type": "stream",
     "text": [
      "Строки: 74484\tПропуски: 0\tДубликаты: 0\n",
      "\n",
      "Уникальные значения:\n",
      "id     74484\n",
      "grp        2\n",
      "dtype: int64\n",
      "\n",
      "Тип данных:\n",
      "id      int64\n",
      "grp    object\n",
      "dtype: object\n"
     ]
    }
   ],
   "source": [
    "test(groups)"
   ]
  },
  {
   "cell_type": "code",
   "execution_count": 7,
   "metadata": {},
   "outputs": [
    {
     "name": "stdout",
     "output_type": "stream",
     "text": [
      "Строки: 92\tПропуски: 0\tДубликаты: 0\n",
      "\n",
      "Уникальные значения:\n",
      "id     92\n",
      "grp     2\n",
      "dtype: int64\n",
      "\n",
      "Тип данных:\n",
      "id      int64\n",
      "grp    object\n",
      "dtype: object\n"
     ]
    }
   ],
   "source": [
    "test(groups_add)"
   ]
  },
  {
   "cell_type": "code",
   "execution_count": 8,
   "metadata": {},
   "outputs": [
    {
     "name": "stdout",
     "output_type": "stream",
     "text": [
      "Строки: 8341\tПропуски: 0\tДубликаты: 0\n",
      "\n",
      "Уникальные значения:\n",
      "student_id    8341\n",
      "dtype: int64\n",
      "\n",
      "Тип данных:\n",
      "student_id    int64\n",
      "dtype: object\n"
     ]
    }
   ],
   "source": [
    "test(active_studs)"
   ]
  },
  {
   "cell_type": "code",
   "execution_count": 9,
   "metadata": {},
   "outputs": [
    {
     "name": "stdout",
     "output_type": "stream",
     "text": [
      "Строки: 541\tПропуски: 0\tДубликаты: 0\n",
      "\n",
      "Уникальные значения:\n",
      "student_id    541\n",
      "rev            39\n",
      "dtype: int64\n",
      "\n",
      "Тип данных:\n",
      "student_id      int64\n",
      "rev           float64\n",
      "dtype: object\n"
     ]
    }
   ],
   "source": [
    "test(checks)"
   ]
  },
  {
   "cell_type": "code",
   "execution_count": 10,
   "metadata": {},
   "outputs": [
    {
     "data": {
      "text/html": [
       "<div>\n",
       "<style scoped>\n",
       "    .dataframe tbody tr th:only-of-type {\n",
       "        vertical-align: middle;\n",
       "    }\n",
       "\n",
       "    .dataframe tbody tr th {\n",
       "        vertical-align: top;\n",
       "    }\n",
       "\n",
       "    .dataframe thead th {\n",
       "        text-align: right;\n",
       "    }\n",
       "</style>\n",
       "<table border=\"1\" class=\"dataframe\">\n",
       "  <thead>\n",
       "    <tr style=\"text-align: right;\">\n",
       "      <th></th>\n",
       "      <th>id</th>\n",
       "    </tr>\n",
       "    <tr>\n",
       "      <th>grp</th>\n",
       "      <th></th>\n",
       "    </tr>\n",
       "  </thead>\n",
       "  <tbody>\n",
       "    <tr>\n",
       "      <th>A</th>\n",
       "      <td>14671</td>\n",
       "    </tr>\n",
       "    <tr>\n",
       "      <th>B</th>\n",
       "      <td>59813</td>\n",
       "    </tr>\n",
       "  </tbody>\n",
       "</table>\n",
       "</div>"
      ],
      "text/plain": [
       "        id\n",
       "grp       \n",
       "A    14671\n",
       "B    59813"
      ]
     },
     "execution_count": 10,
     "metadata": {},
     "output_type": "execute_result"
    }
   ],
   "source": [
    "groups.groupby('grp').count()"
   ]
  },
  {
   "cell_type": "code",
   "execution_count": 11,
   "metadata": {},
   "outputs": [],
   "source": [
    "# приводим название колонок к единому формату\n",
    "active_studs = active_studs.rename(columns={'student_id': 'id'})\n",
    "checks = checks.rename(columns={'student_id': 'id'})"
   ]
  },
  {
   "cell_type": "markdown",
   "metadata": {},
   "source": [
    "Предположим, что файл __groups_add__ содержит данные для проведения А/В теста. Возможно по тех ошибке или другой причине данные пользователи не попали в основной файл, будем его учитывать в дальнейших расчетах."
   ]
  },
  {
   "cell_type": "code",
   "execution_count": 12,
   "metadata": {},
   "outputs": [],
   "source": [
    "# добавляем доп файл с пользователями\n",
    "group_fix = groups.merge(groups_add, how='outer')"
   ]
  },
  {
   "cell_type": "code",
   "execution_count": 13,
   "metadata": {},
   "outputs": [],
   "source": [
    "# активные пользователи в разбивке по группам\n",
    "group_active = group_fix.merge(active_studs, how='right')"
   ]
  },
  {
   "cell_type": "code",
   "execution_count": 14,
   "metadata": {},
   "outputs": [],
   "source": [
    "# покупки пользователей в разбивке по группам\n",
    "group_check = group_fix.merge(checks, how='right')"
   ]
  },
  {
   "cell_type": "code",
   "execution_count": 15,
   "metadata": {},
   "outputs": [
    {
     "data": {
      "text/html": [
       "<div>\n",
       "<style scoped>\n",
       "    .dataframe tbody tr th:only-of-type {\n",
       "        vertical-align: middle;\n",
       "    }\n",
       "\n",
       "    .dataframe tbody tr th {\n",
       "        vertical-align: top;\n",
       "    }\n",
       "\n",
       "    .dataframe thead th {\n",
       "        text-align: right;\n",
       "    }\n",
       "</style>\n",
       "<table border=\"1\" class=\"dataframe\">\n",
       "  <thead>\n",
       "    <tr style=\"text-align: right;\">\n",
       "      <th></th>\n",
       "      <th>id</th>\n",
       "      <th>grp</th>\n",
       "      <th>rev</th>\n",
       "    </tr>\n",
       "  </thead>\n",
       "  <tbody>\n",
       "    <tr>\n",
       "      <th>0</th>\n",
       "      <td>1184303</td>\n",
       "      <td>A</td>\n",
       "      <td>1530.0000</td>\n",
       "    </tr>\n",
       "    <tr>\n",
       "      <th>1</th>\n",
       "      <td>3354191</td>\n",
       "      <td>B</td>\n",
       "      <td>1900.0001</td>\n",
       "    </tr>\n",
       "    <tr>\n",
       "      <th>2</th>\n",
       "      <td>3278734</td>\n",
       "      <td>B</td>\n",
       "      <td>1900.0000</td>\n",
       "    </tr>\n",
       "    <tr>\n",
       "      <th>3</th>\n",
       "      <td>720651</td>\n",
       "      <td>A</td>\n",
       "      <td>1980.0000</td>\n",
       "    </tr>\n",
       "    <tr>\n",
       "      <th>4</th>\n",
       "      <td>1232221</td>\n",
       "      <td>B</td>\n",
       "      <td>1900.0000</td>\n",
       "    </tr>\n",
       "    <tr>\n",
       "      <th>...</th>\n",
       "      <td>...</td>\n",
       "      <td>...</td>\n",
       "      <td>...</td>\n",
       "    </tr>\n",
       "    <tr>\n",
       "      <th>387</th>\n",
       "      <td>3890326</td>\n",
       "      <td>B</td>\n",
       "      <td>199.0000</td>\n",
       "    </tr>\n",
       "    <tr>\n",
       "      <th>388</th>\n",
       "      <td>1390994</td>\n",
       "      <td>A</td>\n",
       "      <td>398.0000</td>\n",
       "    </tr>\n",
       "    <tr>\n",
       "      <th>389</th>\n",
       "      <td>1516339</td>\n",
       "      <td>A</td>\n",
       "      <td>290.0000</td>\n",
       "    </tr>\n",
       "    <tr>\n",
       "      <th>390</th>\n",
       "      <td>3910596</td>\n",
       "      <td>B</td>\n",
       "      <td>597.0000</td>\n",
       "    </tr>\n",
       "    <tr>\n",
       "      <th>391</th>\n",
       "      <td>3610547</td>\n",
       "      <td>B</td>\n",
       "      <td>290.0000</td>\n",
       "    </tr>\n",
       "  </tbody>\n",
       "</table>\n",
       "<p>392 rows × 3 columns</p>\n",
       "</div>"
      ],
      "text/plain": [
       "          id grp        rev\n",
       "0    1184303   A  1530.0000\n",
       "1    3354191   B  1900.0001\n",
       "2    3278734   B  1900.0000\n",
       "3     720651   A  1980.0000\n",
       "4    1232221   B  1900.0000\n",
       "..       ...  ..        ...\n",
       "387  3890326   B   199.0000\n",
       "388  1390994   A   398.0000\n",
       "389  1516339   A   290.0000\n",
       "390  3910596   B   597.0000\n",
       "391  3610547   B   290.0000\n",
       "\n",
       "[392 rows x 3 columns]"
      ]
     },
     "execution_count": 15,
     "metadata": {},
     "output_type": "execute_result"
    }
   ],
   "source": [
    "group_active.merge(group_check, how='inner')"
   ]
  },
  {
   "cell_type": "markdown",
   "metadata": {},
   "source": [
    "При объединии таблиц с платежами и активными пользователями можно увидеть, что остается только **392** строки, тогда как в таблице с оплатами было **541** значение. Это говорит о том, что оплата часть клиентов осуществляла оплату не заходя на платформу, проверим это предположение на данных"
   ]
  },
  {
   "cell_type": "code",
   "execution_count": 16,
   "metadata": {},
   "outputs": [
    {
     "data": {
      "text/html": [
       "<div>\n",
       "<style scoped>\n",
       "    .dataframe tbody tr th:only-of-type {\n",
       "        vertical-align: middle;\n",
       "    }\n",
       "\n",
       "    .dataframe tbody tr th {\n",
       "        vertical-align: top;\n",
       "    }\n",
       "\n",
       "    .dataframe thead th {\n",
       "        text-align: right;\n",
       "    }\n",
       "</style>\n",
       "<table border=\"1\" class=\"dataframe\">\n",
       "  <thead>\n",
       "    <tr style=\"text-align: right;\">\n",
       "      <th></th>\n",
       "      <th>id</th>\n",
       "      <th>rev</th>\n",
       "    </tr>\n",
       "  </thead>\n",
       "  <tbody>\n",
       "    <tr>\n",
       "      <th>1</th>\n",
       "      <td>3185</td>\n",
       "      <td>690.0</td>\n",
       "    </tr>\n",
       "    <tr>\n",
       "      <th>2</th>\n",
       "      <td>25973</td>\n",
       "      <td>690.0</td>\n",
       "    </tr>\n",
       "    <tr>\n",
       "      <th>3</th>\n",
       "      <td>26280</td>\n",
       "      <td>690.0</td>\n",
       "    </tr>\n",
       "    <tr>\n",
       "      <th>5</th>\n",
       "      <td>100645</td>\n",
       "      <td>630.0</td>\n",
       "    </tr>\n",
       "    <tr>\n",
       "      <th>6</th>\n",
       "      <td>102534</td>\n",
       "      <td>580.0</td>\n",
       "    </tr>\n",
       "    <tr>\n",
       "      <th>...</th>\n",
       "      <td>...</td>\n",
       "      <td>...</td>\n",
       "    </tr>\n",
       "    <tr>\n",
       "      <th>508</th>\n",
       "      <td>5291900</td>\n",
       "      <td>199.0</td>\n",
       "    </tr>\n",
       "    <tr>\n",
       "      <th>512</th>\n",
       "      <td>5331842</td>\n",
       "      <td>290.0</td>\n",
       "    </tr>\n",
       "    <tr>\n",
       "      <th>521</th>\n",
       "      <td>5486319</td>\n",
       "      <td>199.0</td>\n",
       "    </tr>\n",
       "    <tr>\n",
       "      <th>530</th>\n",
       "      <td>5562806</td>\n",
       "      <td>398.0</td>\n",
       "    </tr>\n",
       "    <tr>\n",
       "      <th>534</th>\n",
       "      <td>5599663</td>\n",
       "      <td>1900.0</td>\n",
       "    </tr>\n",
       "  </tbody>\n",
       "</table>\n",
       "<p>149 rows × 2 columns</p>\n",
       "</div>"
      ],
      "text/plain": [
       "          id     rev\n",
       "1       3185   690.0\n",
       "2      25973   690.0\n",
       "3      26280   690.0\n",
       "5     100645   630.0\n",
       "6     102534   580.0\n",
       "..       ...     ...\n",
       "508  5291900   199.0\n",
       "512  5331842   290.0\n",
       "521  5486319   199.0\n",
       "530  5562806   398.0\n",
       "534  5599663  1900.0\n",
       "\n",
       "[149 rows x 2 columns]"
      ]
     },
     "execution_count": 16,
     "metadata": {},
     "output_type": "execute_result"
    }
   ],
   "source": [
    "# оплаты при которых юзеры не заходили на платформу\n",
    "checks.query('not id.isin(@active_studs.id)')"
   ]
  },
  {
   "cell_type": "markdown",
   "metadata": {},
   "source": [
    "Предположим, что у части пользователей предположительно стоит автоплатеж. Из этого следует, что в проведенном А/Б эксперименте они учавствовать не могут, поскольку данная группа пользователей осуществляла оплату в автоматическом режиме и не видела добавленных изменений.\n",
    "\n",
    "Сформируем таблицу для дальнейшей работы"
   ]
  },
  {
   "cell_type": "code",
   "execution_count": 17,
   "metadata": {},
   "outputs": [],
   "source": [
    "# соединение только активных юзеров и тех,\n",
    "# кто из них производил оплату за время эксперимента\n",
    "group_active_check = group_active.merge(group_check, how='left')"
   ]
  },
  {
   "cell_type": "code",
   "execution_count": 18,
   "metadata": {},
   "outputs": [
    {
     "data": {
      "text/html": [
       "<div>\n",
       "<style scoped>\n",
       "    .dataframe tbody tr th:only-of-type {\n",
       "        vertical-align: middle;\n",
       "    }\n",
       "\n",
       "    .dataframe tbody tr th {\n",
       "        vertical-align: top;\n",
       "    }\n",
       "\n",
       "    .dataframe thead th {\n",
       "        text-align: right;\n",
       "    }\n",
       "</style>\n",
       "<table border=\"1\" class=\"dataframe\">\n",
       "  <thead>\n",
       "    <tr style=\"text-align: right;\">\n",
       "      <th></th>\n",
       "      <th>id</th>\n",
       "      <th>grp</th>\n",
       "      <th>rev</th>\n",
       "    </tr>\n",
       "  </thead>\n",
       "  <tbody>\n",
       "    <tr>\n",
       "      <th>0</th>\n",
       "      <td>581585</td>\n",
       "      <td>A</td>\n",
       "      <td>NaN</td>\n",
       "    </tr>\n",
       "    <tr>\n",
       "      <th>1</th>\n",
       "      <td>5723133</td>\n",
       "      <td>A</td>\n",
       "      <td>NaN</td>\n",
       "    </tr>\n",
       "    <tr>\n",
       "      <th>2</th>\n",
       "      <td>3276743</td>\n",
       "      <td>B</td>\n",
       "      <td>NaN</td>\n",
       "    </tr>\n",
       "    <tr>\n",
       "      <th>3</th>\n",
       "      <td>4238589</td>\n",
       "      <td>A</td>\n",
       "      <td>NaN</td>\n",
       "    </tr>\n",
       "    <tr>\n",
       "      <th>4</th>\n",
       "      <td>4475369</td>\n",
       "      <td>B</td>\n",
       "      <td>NaN</td>\n",
       "    </tr>\n",
       "    <tr>\n",
       "      <th>...</th>\n",
       "      <td>...</td>\n",
       "      <td>...</td>\n",
       "      <td>...</td>\n",
       "    </tr>\n",
       "    <tr>\n",
       "      <th>8336</th>\n",
       "      <td>1794344</td>\n",
       "      <td>B</td>\n",
       "      <td>NaN</td>\n",
       "    </tr>\n",
       "    <tr>\n",
       "      <th>8337</th>\n",
       "      <td>296883</td>\n",
       "      <td>B</td>\n",
       "      <td>NaN</td>\n",
       "    </tr>\n",
       "    <tr>\n",
       "      <th>8338</th>\n",
       "      <td>3598448</td>\n",
       "      <td>B</td>\n",
       "      <td>NaN</td>\n",
       "    </tr>\n",
       "    <tr>\n",
       "      <th>8339</th>\n",
       "      <td>3610547</td>\n",
       "      <td>B</td>\n",
       "      <td>290.0</td>\n",
       "    </tr>\n",
       "    <tr>\n",
       "      <th>8340</th>\n",
       "      <td>205705</td>\n",
       "      <td>B</td>\n",
       "      <td>NaN</td>\n",
       "    </tr>\n",
       "  </tbody>\n",
       "</table>\n",
       "<p>8341 rows × 3 columns</p>\n",
       "</div>"
      ],
      "text/plain": [
       "           id grp    rev\n",
       "0      581585   A    NaN\n",
       "1     5723133   A    NaN\n",
       "2     3276743   B    NaN\n",
       "3     4238589   A    NaN\n",
       "4     4475369   B    NaN\n",
       "...       ...  ..    ...\n",
       "8336  1794344   B    NaN\n",
       "8337   296883   B    NaN\n",
       "8338  3598448   B    NaN\n",
       "8339  3610547   B  290.0\n",
       "8340   205705   B    NaN\n",
       "\n",
       "[8341 rows x 3 columns]"
      ]
     },
     "execution_count": 18,
     "metadata": {},
     "output_type": "execute_result"
    }
   ],
   "source": [
    "group_active_check"
   ]
  },
  {
   "cell_type": "markdown",
   "metadata": {},
   "source": [
    "В файлах присутствует информация о пользователях и клиентах, а так же о совершении ими оплат.  \n",
    "Поскольку нам не известно, что именно изменили для тестовой группы и на увеличение каких показателей это изменение направлено,то посчитаем основные метрики на их сновании будем примать дальнейшее решении об оценке различий между группами эксперимента."
   ]
  },
  {
   "cell_type": "code",
   "execution_count": 19,
   "metadata": {},
   "outputs": [
    {
     "data": {
      "text/plain": [
       "<AxesSubplot:xlabel='rev', ylabel='Count'>"
      ]
     },
     "execution_count": 19,
     "metadata": {},
     "output_type": "execute_result"
    },
    {
     "data": {
      "image/png": "[encoded data removed]",
      "text/plain": [
       "<Figure size 1170x827 with 1 Axes>"
      ]
     },
     "metadata": {},
     "output_type": "display_data"
    }
   ],
   "source": [
    "sns.set(rc={'figure.figsize': (11.7, 8.27)})\n",
    "sns.set_theme(palette='pastel')\n",
    "\n",
    "sns.histplot(data=group_active_check, x=\"rev\", hue='grp')"
   ]
  },
  {
   "cell_type": "code",
   "execution_count": 20,
   "metadata": {},
   "outputs": [
    {
     "data": {
      "text/plain": [
       "<AxesSubplot:xlabel='rev', ylabel='grp'>"
      ]
     },
     "execution_count": 20,
     "metadata": {},
     "output_type": "execute_result"
    },
    {
     "data": {
      "image/png": "[encoded data removed]",
      "text/plain": [
       "<Figure size 1170x827 with 1 Axes>"
      ]
     },
     "metadata": {},
     "output_type": "display_data"
    }
   ],
   "source": [
    "sns.boxplot(data=group_active_check, x=\"rev\", y=\"grp\")"
   ]
  },
  {
   "cell_type": "code",
   "execution_count": 21,
   "metadata": {},
   "outputs": [
    {
     "data": {
      "text/html": [
       "<div>\n",
       "<style scoped>\n",
       "    .dataframe tbody tr th:only-of-type {\n",
       "        vertical-align: middle;\n",
       "    }\n",
       "\n",
       "    .dataframe tbody tr th {\n",
       "        vertical-align: top;\n",
       "    }\n",
       "\n",
       "    .dataframe thead th {\n",
       "        text-align: right;\n",
       "    }\n",
       "</style>\n",
       "<table border=\"1\" class=\"dataframe\">\n",
       "  <thead>\n",
       "    <tr style=\"text-align: right;\">\n",
       "      <th></th>\n",
       "      <th>W</th>\n",
       "      <th>pval</th>\n",
       "      <th>normal</th>\n",
       "    </tr>\n",
       "    <tr>\n",
       "      <th>grp</th>\n",
       "      <th></th>\n",
       "      <th></th>\n",
       "      <th></th>\n",
       "    </tr>\n",
       "  </thead>\n",
       "  <tbody>\n",
       "    <tr>\n",
       "      <th>A</th>\n",
       "      <td>30.378420</td>\n",
       "      <td>2.531687e-07</td>\n",
       "      <td>False</td>\n",
       "    </tr>\n",
       "    <tr>\n",
       "      <th>B</th>\n",
       "      <td>6.795663</td>\n",
       "      <td>3.344572e-02</td>\n",
       "      <td>False</td>\n",
       "    </tr>\n",
       "  </tbody>\n",
       "</table>\n",
       "</div>"
      ],
      "text/plain": [
       "             W          pval  normal\n",
       "grp                                 \n",
       "A    30.378420  2.531687e-07   False\n",
       "B     6.795663  3.344572e-02   False"
      ]
     },
     "execution_count": 21,
     "metadata": {},
     "output_type": "execute_result"
    }
   ],
   "source": [
    "# Проверка на нормальность распределения в группах\n",
    "pg.normality(data=group_active_check, dv=\"rev\",\n",
    "             group=\"grp\", method=\"normaltest\")"
   ]
  },
  {
   "cell_type": "markdown",
   "metadata": {},
   "source": [
    "**По данным графикам можем наблюдать, что:**\n",
    "- *распределения отличны от нормальных*\n",
    "- *не унимодальны*\n",
    "- *в 2х группах присутствуют выбросы*"
   ]
  },
  {
   "cell_type": "markdown",
   "metadata": {},
   "source": [
    "\n"
   ]
  },
  {
   "cell_type": "code",
   "execution_count": 22,
   "metadata": {},
   "outputs": [],
   "source": [
    "# Метрики\n",
    "client = group_active_check\\\n",
    "    .query('rev > 0')\\\n",
    "    .groupby('grp')\\\n",
    "    .id\\\n",
    "    .count()\n",
    "users = group_active_check\\\n",
    "    .groupby('grp')\\\n",
    "    .id\\\n",
    "    .count()\n",
    "offline_buy = group_active_check\\\n",
    "    .query('not id.isin(@active_studs.id)')\\\n",
    "    .groupby('grp')\\\n",
    "    .rev\\\n",
    "    .count()\n",
    "revenue = group_active_check\\\n",
    "    .groupby('grp')\\\n",
    "    .rev\\\n",
    "    .sum()\n",
    "mean = group_active_check\\\n",
    "    .groupby('grp')\\\n",
    "    .rev\\\n",
    "    .mean()\n",
    "\n",
    "cr_to_buy = (client / users)\n",
    "arppu = revenue / client\n",
    "arpu = revenue / users\n",
    "\n",
    "metrics = pd.DataFrame({'client': client,\n",
    "                        'users': users,\n",
    "                        'cr_to_buy': cr_to_buy,\n",
    "                        'arppu': arppu,\n",
    "                        'arpu': arpu})"
   ]
  },
  {
   "cell_type": "code",
   "execution_count": 23,
   "metadata": {
    "scrolled": true
   },
   "outputs": [
    {
     "data": {
      "text/html": [
       "<div>\n",
       "<style scoped>\n",
       "    .dataframe tbody tr th:only-of-type {\n",
       "        vertical-align: middle;\n",
       "    }\n",
       "\n",
       "    .dataframe tbody tr th {\n",
       "        vertical-align: top;\n",
       "    }\n",
       "\n",
       "    .dataframe thead th {\n",
       "        text-align: right;\n",
       "    }\n",
       "</style>\n",
       "<table border=\"1\" class=\"dataframe\">\n",
       "  <thead>\n",
       "    <tr style=\"text-align: right;\">\n",
       "      <th></th>\n",
       "      <th>client</th>\n",
       "      <th>users</th>\n",
       "      <th>cr_to_buy</th>\n",
       "      <th>arppu</th>\n",
       "      <th>arpu</th>\n",
       "    </tr>\n",
       "    <tr>\n",
       "      <th>grp</th>\n",
       "      <th></th>\n",
       "      <th></th>\n",
       "      <th></th>\n",
       "      <th></th>\n",
       "      <th></th>\n",
       "    </tr>\n",
       "  </thead>\n",
       "  <tbody>\n",
       "    <tr>\n",
       "      <th>A</th>\n",
       "      <td>78</td>\n",
       "      <td>1538</td>\n",
       "      <td>0.050715</td>\n",
       "      <td>933.589744</td>\n",
       "      <td>47.347204</td>\n",
       "    </tr>\n",
       "    <tr>\n",
       "      <th>B</th>\n",
       "      <td>314</td>\n",
       "      <td>6803</td>\n",
       "      <td>0.046156</td>\n",
       "      <td>1257.878992</td>\n",
       "      <td>58.058798</td>\n",
       "    </tr>\n",
       "  </tbody>\n",
       "</table>\n",
       "</div>"
      ],
      "text/plain": [
       "     client  users  cr_to_buy        arppu       arpu\n",
       "grp                                                  \n",
       "A        78   1538   0.050715   933.589744  47.347204\n",
       "B       314   6803   0.046156  1257.878992  58.058798"
      ]
     },
     "execution_count": 23,
     "metadata": {},
     "output_type": "execute_result"
    }
   ],
   "source": [
    "metrics"
   ]
  },
  {
   "cell_type": "markdown",
   "metadata": {},
   "source": [
    "Согласно посчитанным метрикам можно наблюдать, что:\n",
    "- группы распределены неравномерно(6803 юзера в гр.В, потив 1538 в гр.А)\n",
    "- показатель arppu в обеих группах равен ср. чеку, это означает, что на 1 пользователя приходится не более 1 оплаты\n",
    "- конверсии в покупку на первый взгляд сильно не отличаюся\n",
    "- arpu и arppu имеют сильное различие между группами\n",
    "---\n",
    "Так как критерии оценки нам не известны, считаю верным подходом сравнить все имеющиеся показатели.  \n",
    "Для дальнейшей проверки формируем следующие гипотезы различий между группами:\n",
    "\n",
    "**1. О различии в конверсии**  \n",
    "**2. Различия в arppu(он же средний чек)**  \n",
    "**3. Различия в arpu**  \n"
   ]
  },
  {
   "cell_type": "markdown",
   "metadata": {},
   "source": [
    "### 1.   \n",
    "Проверить различие конверсии в группах можно с помощью теста *хи-квадрат*. Для этого постороим таблицы сопреженности для дальнейшей передачи в функцию.\n",
    ">H0 - конверсии между группами не отличаются\n",
    "  \n",
    ">H1 - конверсии между группами имет различия"
   ]
  },
  {
   "cell_type": "code",
   "execution_count": 24,
   "metadata": {},
   "outputs": [],
   "source": [
    "# для кросс таблицы подготовим данные\n",
    "# добавим столбец с оплатой и оплатой без захода в приложение\n",
    "group_active_check['buy'] = group_active_check.rev.notna()"
   ]
  },
  {
   "cell_type": "code",
   "execution_count": 25,
   "metadata": {},
   "outputs": [
    {
     "data": {
      "text/html": [
       "<div>\n",
       "<style scoped>\n",
       "    .dataframe tbody tr th:only-of-type {\n",
       "        vertical-align: middle;\n",
       "    }\n",
       "\n",
       "    .dataframe tbody tr th {\n",
       "        vertical-align: top;\n",
       "    }\n",
       "\n",
       "    .dataframe thead th {\n",
       "        text-align: right;\n",
       "    }\n",
       "</style>\n",
       "<table border=\"1\" class=\"dataframe\">\n",
       "  <thead>\n",
       "    <tr style=\"text-align: right;\">\n",
       "      <th>buy</th>\n",
       "      <th>False</th>\n",
       "      <th>True</th>\n",
       "    </tr>\n",
       "    <tr>\n",
       "      <th>grp</th>\n",
       "      <th></th>\n",
       "      <th></th>\n",
       "    </tr>\n",
       "  </thead>\n",
       "  <tbody>\n",
       "    <tr>\n",
       "      <th>A</th>\n",
       "      <td>1460</td>\n",
       "      <td>78</td>\n",
       "    </tr>\n",
       "    <tr>\n",
       "      <th>B</th>\n",
       "      <td>6489</td>\n",
       "      <td>314</td>\n",
       "    </tr>\n",
       "  </tbody>\n",
       "</table>\n",
       "</div>"
      ],
      "text/plain": [
       "buy  False  True\n",
       "grp             \n",
       "A     1460    78\n",
       "B     6489   314"
      ]
     },
     "execution_count": 25,
     "metadata": {},
     "output_type": "execute_result"
    }
   ],
   "source": [
    "cr_buy = pd.crosstab(group_active_check.grp, group_active_check.buy)\n",
    "cr_buy"
   ]
  },
  {
   "cell_type": "code",
   "execution_count": 26,
   "metadata": {},
   "outputs": [
    {
     "data": {
      "text/plain": [
       "(buy        False        True\n",
       " grp                         \n",
       " A    1465.718979   72.281021\n",
       " B    6483.281021  319.718979,\n",
       " buy   False   True\n",
       " grp               \n",
       " A    1460.5   77.5\n",
       " B    6488.5  314.5,\n",
       "                  test    lambda      chi2  dof      pval    cramer     power\n",
       " 0             pearson  1.000000  0.484808  1.0  0.486252  0.007624  0.107123\n",
       " 1        cressie-read  0.666667  0.482018  1.0  0.487510  0.007602  0.106787\n",
       " 2      log-likelihood  0.000000  0.476541  1.0  0.489993  0.007559  0.106127\n",
       " 3       freeman-tukey -0.500000  0.472522  1.0  0.491829  0.007527  0.105643\n",
       " 4  mod-log-likelihood -1.000000  0.468578  1.0  0.493642  0.007495  0.105168\n",
       " 5              neyman -2.000000  0.460909  1.0  0.497200  0.007434  0.104245)"
      ]
     },
     "execution_count": 26,
     "metadata": {},
     "output_type": "execute_result"
    }
   ],
   "source": [
    "pg.chi2_independence(group_active_check, x='grp', y='buy')"
   ]
  },
  {
   "cell_type": "markdown",
   "metadata": {},
   "source": [
    "В расчетах хи-квадрат(для всех критериев) для обеих метрик значение *p-value(уровень значимости) выше установленного порога в 0,05*. Следовательно можно говорить о том, что **распределение конверсий по группам статзначимо не различается**.\n",
    "  \n",
    "Так же об этом свидетельствует коэф. крамера, при таких низких начениях (~0.0075) показывает слабую взаимосвязь между группами А и В."
   ]
  },
  {
   "cell_type": "markdown",
   "metadata": {},
   "source": [
    "### 2.   \n",
    "Ранее мы определили, что согласно посчитаным метрикам ARPPU равен среднему чеку для 2х групп. Следовательно для простоты понимания будем проверять распределение на разницу средних.  \n",
    "Получившиеся распределения не являются нормальными, поскольку мы имеем отностительно не большой размер выборки, использование *т-теста* не является валидным в данной ситуации. Интерпретация с помощью *критерия Манна-Уитни*(для ненормальных распределений) так же имеет существенные сложности.  \n",
    "\n",
    "Осуществим сравление средних при помощи bootstrap'а.\n"
   ]
  },
  {
   "cell_type": "code",
   "execution_count": 27,
   "metadata": {},
   "outputs": [
    {
     "data": {
      "text/plain": [
       "<AxesSubplot:xlabel='rev', ylabel='Count'>"
      ]
     },
     "execution_count": 27,
     "metadata": {},
     "output_type": "execute_result"
    },
    {
     "data": {
      "image/png": "[encoded data removed]",
      "text/plain": [
       "<Figure size 1170x827 with 1 Axes>"
      ]
     },
     "metadata": {},
     "output_type": "display_data"
    }
   ],
   "source": [
    "sns.histplot(group_active_check, x='rev', hue='grp')"
   ]
  },
  {
   "cell_type": "code",
   "execution_count": 28,
   "metadata": {},
   "outputs": [
    {
     "data": {
      "text/plain": [
       "(array([-537.48,  -95.66]),\n",
       " array([-408.04990499, -311.09588205, -308.40618523, ..., -362.60094238,\n",
       "        -257.11849882, -368.79324912]))"
      ]
     },
     "execution_count": 28,
     "metadata": {},
     "output_type": "execute_result"
    }
   ],
   "source": [
    "# функции бутстрапа не работает с нулевыми знаениями, поэтому подготовим данные\n",
    "group_a = group_active_check.query('grp == \"A\"').rev.dropna()\n",
    "group_b = group_active_check.query('grp == \"B\"').rev.dropna()\n",
    "# Строим распределения разницы средних через bootstrap\n",
    "ci, array_rev = pg.compute_bootci(group_a, group_b,\n",
    "                                  func=lambda a, b: np.mean(a) - np.mean(b),\n",
    "                                  method='per', n_boot=10000, return_dist=True)\n",
    "ci, array_rev"
   ]
  },
  {
   "cell_type": "code",
   "execution_count": 29,
   "metadata": {},
   "outputs": [
    {
     "data": {
      "text/plain": [
       "<matplotlib.collections.LineCollection at 0x7fcfda0bf040>"
      ]
     },
     "execution_count": 29,
     "metadata": {},
     "output_type": "execute_result"
    },
    {
     "data": {
      "image/png": "[encoded data removed]",
      "text/plain": [
       "<Figure size 1170x827 with 1 Axes>"
      ]
     },
     "metadata": {},
     "output_type": "display_data"
    }
   ],
   "source": [
    "sns.histplot(array_rev)\n",
    "plt.vlines(ci, ymin=0, ymax=75, linestyle='--')"
   ]
  },
  {
   "cell_type": "markdown",
   "metadata": {},
   "source": [
    "Мы видим по графику и глядя доверительный интервал, что нулевое значение в него не попадает.  \n",
    "Из этого следует, что cтатзначимо **среднее значение в контрольной группе меньше, чем в тестовой**.  \n",
    "\n",
    "---\n",
    "Показаталь ARPU проверять на статзначимость не имеет смысла, т.к. согласно формуле `ARPU=CR⋅ARPPU`, если у нас изменилось одно из значений, при неизменном втором результат будем похожий.  \n",
    "А именно то, что мы **не смогли доказать различие в конверсии, а разница в средних(arppu) показача, что среднее значение выше в тестовой группе, а следовательно(для данного распределения) и ARPU так же будет выше**."
   ]
  },
  {
   "cell_type": "markdown",
   "metadata": {},
   "source": [
    "### Выводы по анализу данных и А/В тесту  \n",
    "- анализ продуктовых метрик показал различие в arpu, arppu. В тестовой группе показатели превосходят контрольную\n",
    "- cr визуально не имеет особых различий\n",
    "- статзначимо доказано неравество arpu, arppu, а именно более высоких показателей в группе В(тестовой)\n",
    "- статзначимых различий в cr не выявлено\n",
    "\n",
    "---\n",
    "\n",
    "Согласно проведенному анализу и тестам новая механика положительно повлияла на показатели оплат пользователей. Недостаток данных не позволил определить с чем именно связанно улучшение механики. В выборке тестовая группа статзначимо подтвердила более высокие показатели оплат без ярко выраженных снижений по конверсии.  \n",
    "**Из всего выше перечисленного делаем вывод, что следует запускать новую механику оплат на всех пользователей**.  \n",
    "Однако следует ознакомится со списком изменений, возможно потребуется запросить другие данные для проверки показателей связанных с изменением механики.**\n",
    "\n"
   ]
  },
  {
   "cell_type": "markdown",
   "metadata": {},
   "source": [
    "# Задание 2. SQL"
   ]
  },
  {
   "cell_type": "code",
   "execution_count": 30,
   "metadata": {},
   "outputs": [],
   "source": [
    "import pandahouse as ph\n",
    "\n",
    "connection_default = {'host': 'https://clickhouse.lab.karpov.courses',\n",
    "                      'database': 'default',\n",
    "                      'user': 'student',\n",
    "                      'password': 'dpo_python_2020'}\n",
    "\n",
    "# connection_test = dict(database='test',\n",
    "#                   host='https://clickhouse.lab.karpov.courses',\n",
    "#                   user='student-rw',\n",
    "#                   password='656e2b0c9c'"
   ]
  },
  {
   "cell_type": "markdown",
   "metadata": {},
   "source": [
    "## 1  \n",
    "**Условие**\n",
    "\n",
    "Образовательные курсы состоят из различных уроков, каждый из которых состоит из нескольких маленьких заданий. Каждое такое маленькое задание называется \"горошиной\".\n",
    "\n",
    ">Назовём очень усердным учеником того пользователя, который хотя бы раз за текущий месяц правильно решил 20 горошин.  \n",
    "\n",
    "**Задача**  \n",
    "Необходимо написать *оптимальный запрос*, который даст информацию о количестве очень усердных студентов.  \n",
    ">NB! Под усердным студентом мы понимаем студента, который правильно решил 20 задач за текущий месяц."
   ]
  },
  {
   "cell_type": "code",
   "execution_count": 31,
   "metadata": {},
   "outputs": [
    {
     "data": {
      "text/html": [
       "<div>\n",
       "<style scoped>\n",
       "    .dataframe tbody tr th:only-of-type {\n",
       "        vertical-align: middle;\n",
       "    }\n",
       "\n",
       "    .dataframe tbody tr th {\n",
       "        vertical-align: top;\n",
       "    }\n",
       "\n",
       "    .dataframe thead th {\n",
       "        text-align: right;\n",
       "    }\n",
       "</style>\n",
       "<table border=\"1\" class=\"dataframe\">\n",
       "  <thead>\n",
       "    <tr style=\"text-align: right;\">\n",
       "      <th></th>\n",
       "      <th>hard_students</th>\n",
       "    </tr>\n",
       "  </thead>\n",
       "  <tbody>\n",
       "    <tr>\n",
       "      <th>0</th>\n",
       "      <td>136</td>\n",
       "    </tr>\n",
       "  </tbody>\n",
       "</table>\n",
       "</div>"
      ],
      "text/plain": [
       "   hard_students\n",
       "0            136"
      ]
     },
     "execution_count": 31,
     "metadata": {},
     "output_type": "execute_result"
    }
   ],
   "source": [
    "# создаем запрос, db автоматически заменится на значение из database\n",
    "q = '''\n",
    "    WITH\n",
    "    (SELECT MAX(MONTH(timest)) FROM default.peas) as maxMonth\n",
    "\n",
    "    SELECT COUNT(st_id) as hard_students\n",
    "    FROM\n",
    "        (\n",
    "            SELECT st_id\n",
    "            FROM default.peas\n",
    "            WHERE MONTH(timest) = maxMonth\n",
    "            GROUP BY st_id\n",
    "            HAVING SUM(correct) >= 20\n",
    "        ) as p_1\n",
    "    '''\n",
    "\n",
    "# отправляем запрос и записываем результат в пандасовский датафрейм\n",
    "hard_students = ph.read_clickhouse(query=q, connection=connection_default)\n",
    "hard_students"
   ]
  },
  {
   "cell_type": "markdown",
   "metadata": {},
   "source": [
    "## 2  \n",
    "**Условие**\n",
    "\n",
    "Образовательная платформа предлагает пройти студентам курсы по модели *trial*: студент может решить бесплатно лишь 30 горошин в день. Для неограниченного количества заданий в определенной дисциплине студенту необходимо приобрести полный доступ. Команда провела эксперимент, где был протестирован новый экран оплаты.\n",
    "\n",
    "**Задача**  \n",
    "Необходимо в одном запросе выгрузить следующую информацию о группах пользователей:\n",
    "\n",
    "- ARPU \n",
    "- ARPAU \n",
    "- CR в покупку \n",
    "- СR активного пользователя в покупку \n",
    "- CR пользователя из активности по математике (subject = ’math’) в покупку курса по математике\n",
    "- ARPU считается относительно всех пользователей, попавших в группы.\n",
    "\n",
    ">Активным считается пользователь, за все время решивший больше 10 задач правильно в любых дисциплинах.  \n",
    "\n",
    ">Активным по математике считается пользователь, за все время решивший 2 или больше задач правильно по математике."
   ]
  },
  {
   "cell_type": "code",
   "execution_count": 32,
   "metadata": {},
   "outputs": [
    {
     "data": {
      "text/html": [
       "<div>\n",
       "<style scoped>\n",
       "    .dataframe tbody tr th:only-of-type {\n",
       "        vertical-align: middle;\n",
       "    }\n",
       "\n",
       "    .dataframe tbody tr th {\n",
       "        vertical-align: top;\n",
       "    }\n",
       "\n",
       "    .dataframe thead th {\n",
       "        text-align: right;\n",
       "    }\n",
       "</style>\n",
       "<table border=\"1\" class=\"dataframe\">\n",
       "  <thead>\n",
       "    <tr style=\"text-align: right;\">\n",
       "      <th></th>\n",
       "      <th>test_group</th>\n",
       "      <th>ARPU</th>\n",
       "      <th>ARPAU</th>\n",
       "      <th>CR_buy</th>\n",
       "      <th>CR_active_buy</th>\n",
       "      <th>CR_active_math_buy_math</th>\n",
       "    </tr>\n",
       "  </thead>\n",
       "  <tbody>\n",
       "    <tr>\n",
       "      <th>0</th>\n",
       "      <td>control</td>\n",
       "      <td>4540.983607</td>\n",
       "      <td>10393.700787</td>\n",
       "      <td>0.049180</td>\n",
       "      <td>0.110236</td>\n",
       "      <td>0.163265</td>\n",
       "    </tr>\n",
       "    <tr>\n",
       "      <th>1</th>\n",
       "      <td>pilot</td>\n",
       "      <td>11508.474576</td>\n",
       "      <td>29739.583333</td>\n",
       "      <td>0.108475</td>\n",
       "      <td>0.260417</td>\n",
       "      <td>0.380952</td>\n",
       "    </tr>\n",
       "  </tbody>\n",
       "</table>\n",
       "</div>"
      ],
      "text/plain": [
       "  test_group          ARPU         ARPAU    CR_buy  CR_active_buy  \\\n",
       "0    control   4540.983607  10393.700787  0.049180       0.110236   \n",
       "1      pilot  11508.474576  29739.583333  0.108475       0.260417   \n",
       "\n",
       "   CR_active_math_buy_math  \n",
       "0                 0.163265  \n",
       "1                 0.380952  "
      ]
     },
     "execution_count": 32,
     "metadata": {},
     "output_type": "execute_result"
    }
   ],
   "source": [
    "# создаем запрос, db автоматически заменится на значение из database\n",
    "q = '''\n",
    "    WITH\n",
    "        -- количество покупок курса по математике\n",
    "        sum(\n",
    "            case\n",
    "                when (money > 0 and subject = 'Math')\n",
    "                then 1 else 0\n",
    "            end\n",
    "            ) as total_math_buys,\n",
    "         -- количество пользователей\n",
    "        COUNT(DISTINCT a.st_id) as total_users,\n",
    "        -- количество активных клиентов\n",
    "        COUNT(\n",
    "            DISTINCT(\n",
    "                case\n",
    "                    when (active_user and money > 0)\n",
    "                    then a.st_id\n",
    "                end\n",
    "                )\n",
    "            ) as total_active_clients,\n",
    "        -- количество клиентов\n",
    "        COUNT(\n",
    "            DISTINCT(\n",
    "                case\n",
    "                    when money > 0\n",
    "                    then a.st_id\n",
    "                    end)\n",
    "            ) as total_clients,\n",
    "        -- активные пользователи\n",
    "        COUNT(\n",
    "            DISTINCT(\n",
    "                case\n",
    "                    when active_user\n",
    "                    then a.st_id\n",
    "                end)) as active_users,\n",
    "        -- активные пользователи по математике\n",
    "        COUNT(\n",
    "            DISTINCT(\n",
    "                case\n",
    "                    when active_math_user\n",
    "                    then a.st_id\n",
    "                end)\n",
    "            ) as active_math_users\n",
    "\n",
    "    SELECT\n",
    "        a.test_grp as test_group,\n",
    "        sum(money) / total_users as ARPU,\n",
    "        sum(case when active_user then money end) / active_users as ARPAU,\n",
    "        -- CR в покупку\n",
    "        total_clients / total_users as CR_buy,\n",
    "        -- СR активного пользователя в покупку\n",
    "        total_active_clients / active_users as CR_active_buy,\n",
    "        -- CR из активности по математике в покупку курса по математике\n",
    "        total_math_buys / active_math_users as CR_active_math_buy_math\n",
    "    FROM\n",
    "        default.studs a\n",
    "            LEFT JOIN default.final_project_check b\n",
    "                ON a.st_id = b.st_id\n",
    "            LEFT JOIN\n",
    "            -- добавляем активных пользователей\n",
    "            (\n",
    "                SELECT\n",
    "                    st_id,\n",
    "                    (\n",
    "                    case\n",
    "                        when sum(correct) > 10\n",
    "                        then 1 else 0\n",
    "                    end\n",
    "                    ) as active_user\n",
    "                FROM\n",
    "                    default.peas\n",
    "                GROUP BY st_id\n",
    "            ) as c\n",
    "                ON a.st_id = c.st_id\n",
    "            LEFT JOIN\n",
    "            -- добавляем актвных пользователей по математике\n",
    "            (\n",
    "                SELECT\n",
    "                    st_id,\n",
    "                    (\n",
    "                    case\n",
    "                        when sum(correct) >= 2\n",
    "                        then 1 else 0\n",
    "                    end\n",
    "                    ) as active_math_user\n",
    "                FROM\n",
    "                    default.peas\n",
    "                WHERE subject = 'Math'\n",
    "                GROUP BY st_id\n",
    "            ) as d\n",
    "                ON a.st_id = d.st_id\n",
    "    GROUP BY test_grp\n",
    "    '''\n",
    "\n",
    "# отправляем запрос и записываем результат в пандасовский датафрейм\n",
    "all_metrics = ph.read_clickhouse(query=q, connection=connection_default)\n",
    "all_metrics"
   ]
  },
  {
   "cell_type": "markdown",
   "metadata": {},
   "source": [
    "# Задание 3. Python  \n",
    "\n",
    "**Задача**\n",
    "- Реализуйте функцию, которая будет автоматически подгружать информацию из дополнительного файла *groups_add.csv* (заголовки могут отличаться) и на основании дополнительных параметров пересчитывать метрики.\n",
    "- Реализуйте функцию, которая будет строить графики по получаемым метрикам.\n"
   ]
  },
  {
   "cell_type": "code",
   "execution_count": 33,
   "metadata": {},
   "outputs": [],
   "source": [
    "def get_mertics():\n",
    "\n",
    "    # загрузка с яндекса\n",
    "    path = 'https://disk.yandex.ru/d/5Kxrz02m3IBUwQ'\n",
    "    groups_add = pd.read_csv(load_file(path), sep=',')\n",
    "\n",
    "    # Переименовываем для стандартизированного формата\n",
    "    groups_add\\\n",
    "        .rename(columns=({groups_add.columns[0]: 'id',\n",
    "                          groups_add.columns[1]: 'grp'}),\n",
    "                inplace=True)\n",
    "\n",
    "    # добавляем доп файл с пользователями\n",
    "    group_fix = groups.merge(groups_add, how='outer')\n",
    "\n",
    "    # формируем ддата фрейм для расчетов\n",
    "\n",
    "    # активные пользователи в разбивке по группам\n",
    "    group_active = group_fix.merge(active_studs, how='right')\n",
    "    # покупки пользователей в разбивке по группам\n",
    "    group_check = group_fix.merge(checks, how='right')\n",
    "    # соединение активных юзеров и их оплат в момент теста\n",
    "    group_active_check = group_active.merge(group_check, how='left')\n",
    "\n",
    "    client = group_active_check.query('rev > 0').groupby('grp').id.count()\n",
    "    users = group_active_check.groupby('grp').id.count()\n",
    "    revenue = group_active_check.groupby('grp').rev.sum()\n",
    "\n",
    "    cr_to_buy = (client / users)\n",
    "    mean = group_active_check.groupby('grp').rev.mean()\n",
    "    arppu = revenue / client\n",
    "    arpu = revenue / users\n",
    "\n",
    "    metrics = pd.DataFrame({\n",
    "        'cr_to_buy': cr_to_buy,\n",
    "        'mean': mean,\n",
    "        'arppu': arppu,\n",
    "        'arpu': arpu\n",
    "    }).reset_index()\n",
    "\n",
    "    return metrics"
   ]
  },
  {
   "cell_type": "code",
   "execution_count": 34,
   "metadata": {},
   "outputs": [],
   "source": [
    "def get_charts(metrics):\n",
    "    # количество строк(с округлением в большую сторону)\n",
    "    nrows = -1*(metrics.shape[1] - 1) // 2*-1\n",
    "    # количество колонок\n",
    "    ncols = 2\n",
    "    # счетчик для нумерации графиков\n",
    "    count = 1\n",
    "\n",
    "    plt.figure(figsize=(15, nrows*7))\n",
    "    # отрисовка графиков\n",
    "    for column in metrics:\n",
    "        if column == 'grp':\n",
    "            continue\n",
    "        plt.subplot(nrows, ncols, count)\n",
    "        bar = sns.barplot(x='grp', y=column, data=metrics)\n",
    "        bar.axes.set_title(column, fontsize=20)\n",
    "        count += 1"
   ]
  },
  {
   "cell_type": "code",
   "execution_count": 35,
   "metadata": {},
   "outputs": [
    {
     "data": {
      "text/html": [
       "<div>\n",
       "<style scoped>\n",
       "    .dataframe tbody tr th:only-of-type {\n",
       "        vertical-align: middle;\n",
       "    }\n",
       "\n",
       "    .dataframe tbody tr th {\n",
       "        vertical-align: top;\n",
       "    }\n",
       "\n",
       "    .dataframe thead th {\n",
       "        text-align: right;\n",
       "    }\n",
       "</style>\n",
       "<table border=\"1\" class=\"dataframe\">\n",
       "  <thead>\n",
       "    <tr style=\"text-align: right;\">\n",
       "      <th></th>\n",
       "      <th>grp</th>\n",
       "      <th>cr_to_buy</th>\n",
       "      <th>mean</th>\n",
       "      <th>arppu</th>\n",
       "      <th>arpu</th>\n",
       "    </tr>\n",
       "  </thead>\n",
       "  <tbody>\n",
       "    <tr>\n",
       "      <th>0</th>\n",
       "      <td>A</td>\n",
       "      <td>0.050715</td>\n",
       "      <td>933.589744</td>\n",
       "      <td>933.589744</td>\n",
       "      <td>47.347204</td>\n",
       "    </tr>\n",
       "    <tr>\n",
       "      <th>1</th>\n",
       "      <td>B</td>\n",
       "      <td>0.046156</td>\n",
       "      <td>1257.878992</td>\n",
       "      <td>1257.878992</td>\n",
       "      <td>58.058798</td>\n",
       "    </tr>\n",
       "  </tbody>\n",
       "</table>\n",
       "</div>"
      ],
      "text/plain": [
       "  grp  cr_to_buy         mean        arppu       arpu\n",
       "0   A   0.050715   933.589744   933.589744  47.347204\n",
       "1   B   0.046156  1257.878992  1257.878992  58.058798"
      ]
     },
     "execution_count": 35,
     "metadata": {},
     "output_type": "execute_result"
    }
   ],
   "source": [
    "get_mertics()"
   ]
  },
  {
   "cell_type": "code",
   "execution_count": 36,
   "metadata": {
    "scrolled": false
   },
   "outputs": [
    {
     "data": {
      "image/png": "[encoded data removed]",
      "text/plain": [
       "<Figure size 1500x1400 with 4 Axes>"
      ]
     },
     "metadata": {},
     "output_type": "display_data"
    }
   ],
   "source": [
    "get_charts(get_mertics())"
   ]
  }
 ],
 "metadata": {
  "kernelspec": {
   "display_name": "Python 3 (ipykernel)",
   "language": "python",
   "name": "python3"
  },
  "language_info": {
   "codemirror_mode": {
    "name": "ipython",
    "version": 3
   },
   "file_extension": ".py",
   "mimetype": "text/x-python",
   "name": "python",
   "nbconvert_exporter": "python",
   "pygments_lexer": "ipython3",
   "version": "3.9.13"
  }
 },
 "nbformat": 4,
 "nbformat_minor": 4
}
